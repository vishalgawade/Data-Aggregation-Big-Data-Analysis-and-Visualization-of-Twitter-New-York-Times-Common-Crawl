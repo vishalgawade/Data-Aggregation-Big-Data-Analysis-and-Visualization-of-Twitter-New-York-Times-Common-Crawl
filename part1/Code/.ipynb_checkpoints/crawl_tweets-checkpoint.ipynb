{
 "cells": [
  {
   "cell_type": "code",
   "execution_count": 1,
   "metadata": {},
   "outputs": [
    {
     "name": "stderr",
     "output_type": "stream",
     "text": [
      "\n",
      "Attaching package: ‘twitteR’\n",
      "\n",
      "The following object is masked from ‘package:plyr’:\n",
      "\n",
      "    id\n",
      "\n",
      "Google's Terms of Service: https://cloud.google.com/maps-platform/terms/.\n",
      "Please cite ggmap if you use it! See citation(\"ggmap\") for details.\n",
      "Loading required package: sp\n",
      "Checking rgeos availability: FALSE\n",
      " \tNote: when rgeos is not available, polygon geometry \tcomputations in maptools depend on gpclib,\n",
      " \twhich has a restricted licence. It is disabled by default;\n",
      " \tto enable gpclib, type gpclibPermit()\n",
      "\n",
      "Attaching package: ‘maps’\n",
      "\n",
      "The following object is masked from ‘package:plyr’:\n",
      "\n",
      "    ozone\n",
      "\n"
     ]
    }
   ],
   "source": [
    "library(\"readr\")\n",
    "library(stringr)\n",
    "library(usmap)\n",
    "# install.packages(\"plyr\")\n",
    "library(plyr)\n",
    "library(ggplot2)\n",
    "library(twitteR)\n",
    "\n",
    "library(\"ggmap\")\n",
    "library(\"maptools\")\n",
    "library(maps)\n",
    "library(sp)\n",
    "library(maptools)\n",
    "library(ggmap)"
   ]
  },
  {
   "cell_type": "markdown",
   "metadata": {},
   "source": [
    "Soccer"
   ]
  },
  {
   "cell_type": "code",
   "execution_count": 2,
   "metadata": {},
   "outputs": [
    {
     "name": "stdout",
     "output_type": "stream",
     "text": [
      "[1] \"Using direct authentication\"\n"
     ]
    },
    {
     "name": "stderr",
     "output_type": "stream",
     "text": [
      "Warning message in doRppAPICall(\"search/tweets\", n, params = params, retryOnRateLimit = retryOnRateLimit, :\n",
      "“5000 tweets were requested but the API can only return 2625”"
     ]
    }
   ],
   "source": [
    "#twitter api oauth\n",
    "api_key <- \"\"\n",
    "api_secret <- \"\"\n",
    "access_token <- \"\"\n",
    "access_token_secret <- \"\"\n",
    "setup_twitter_oauth(api_key, api_secret, access_token, access_token_secret)\n",
    "\n",
    "\n",
    "#get an approximate US tweets\n",
    "us <- \"40.48,-97.41,2000mi\"\n",
    "#call api\n",
    "tweets <- searchTwitter('soccer OR #soccer',since=\"2019-01-01\" , n=5000, lang=\"en\", geocode = us)\n",
    "no_retweet<-strip_retweets(tweets, strip_manual = TRUE, strip_mt = TRUE)\n",
    "\n",
    "dataFrames <- twListToDF(no_retweet)\n",
    "# head(dataFrames)\n",
    "\n",
    "write_csv(dataFrames, \"raw_tweets_soccer1.csv\",append = TRUE)"
   ]
  },
  {
   "cell_type": "markdown",
   "metadata": {},
   "source": [
    "Rugby"
   ]
  },
  {
   "cell_type": "code",
   "execution_count": 2,
   "metadata": {},
   "outputs": [
    {
     "name": "stdout",
     "output_type": "stream",
     "text": [
      "[1] \"Using direct authentication\"\n"
     ]
    }
   ],
   "source": [
    "#call api\n",
    "tweets <- searchTwitter('rugby OR #rugby',since=\"2019-01-01\" , n=5000, lang=\"en\", geocode = us)\n",
    "no_retweet<-strip_retweets(tweets, strip_manual = TRUE, strip_mt = TRUE)\n",
    "\n",
    "dataFrames <- twListToDF(no_retweet)\n",
    "# head(dataFrames)\n",
    "\n",
    "write_csv(dataFrames, \"raw_tweets_rugby1.csv\",append = TRUE)"
   ]
  },
  {
   "cell_type": "markdown",
   "metadata": {},
   "source": [
    "FootBall"
   ]
  },
  {
   "cell_type": "code",
   "execution_count": 3,
   "metadata": {},
   "outputs": [],
   "source": [
    "tweets <- searchTwitter('football OR #football',since=\"2019-01-01\" , n=5000, lang=\"en\", geocode = us)\n",
    "no_retweet<-strip_retweets(tweets, strip_manual = TRUE, strip_mt = TRUE)\n",
    "\n",
    "dataFrames <- twListToDF(no_retweet)\n",
    "# head(dataFrames)\n",
    "\n",
    "write_csv(dataFrames, \"raw_tweets_football1.csv\",append = TRUE)"
   ]
  },
  {
   "cell_type": "markdown",
   "metadata": {},
   "source": [
    "Baseball"
   ]
  },
  {
   "cell_type": "code",
   "execution_count": 4,
   "metadata": {},
   "outputs": [],
   "source": [
    "tweets <- searchTwitter('baseball OR #baseball',since=\"2019-01-01\" , n=5000, lang=\"en\", geocode = us)\n",
    "no_retweet<-strip_retweets(tweets, strip_manual = TRUE, strip_mt = TRUE)\n",
    "\n",
    "dataFrames <- twListToDF(no_retweet)\n",
    "# head(dataFrames)\n",
    "\n",
    "write_csv(dataFrames, \"raw_tweets_baseball1.csv\",append = TRUE)"
   ]
  },
  {
   "cell_type": "markdown",
   "metadata": {},
   "source": [
    "Golf"
   ]
  },
  {
   "cell_type": "code",
   "execution_count": 6,
   "metadata": {},
   "outputs": [],
   "source": [
    "tweets <- searchTwitter('golf OR #golf',since=\"2019-01-01\" , n=5000, lang=\"en\", geocode = us)\n",
    "no_retweet<-strip_retweets(tweets, strip_manual = TRUE, strip_mt = TRUE)\n",
    "\n",
    "dataFrames <- twListToDF(no_retweet)\n",
    "# head(dataFrames)\n",
    "\n",
    "write_csv(dataFrames, \"raw_tweets_golf1.csv\",append = TRUE)"
   ]
  },
  {
   "cell_type": "markdown",
   "metadata": {},
   "source": [
    "Tennis"
   ]
  },
  {
   "cell_type": "code",
   "execution_count": 7,
   "metadata": {},
   "outputs": [],
   "source": [
    "tweets <- searchTwitter('tennis OR #tennis',since=\"2019-01-01\" , n=5000, lang=\"en\", geocode = us)\n",
    "no_retweet<-strip_retweets(tweets, strip_manual = TRUE, strip_mt = TRUE)\n",
    "\n",
    "dataFrames <- twListToDF(no_retweet)\n",
    "# head(dataFrames)\n",
    "\n",
    "write_csv(dataFrames, \"raw_tweets_tennis1.csv\",append = TRUE)"
   ]
  },
  {
   "cell_type": "code",
   "execution_count": null,
   "metadata": {},
   "outputs": [],
   "source": []
  }
 ],
 "metadata": {
  "kernelspec": {
   "display_name": "R",
   "language": "R",
   "name": "ir"
  },
  "language_info": {
   "codemirror_mode": "r",
   "file_extension": ".r",
   "mimetype": "text/x-r-source",
   "name": "R",
   "pygments_lexer": "r",
   "version": "3.5.1"
  }
 },
 "nbformat": 4,
 "nbformat_minor": 2
}
