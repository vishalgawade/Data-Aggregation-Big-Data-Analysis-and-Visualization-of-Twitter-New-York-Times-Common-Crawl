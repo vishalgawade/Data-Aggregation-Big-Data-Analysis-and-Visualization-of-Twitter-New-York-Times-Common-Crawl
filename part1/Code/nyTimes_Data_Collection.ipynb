{
 "cells": [
  {
   "cell_type": "code",
   "execution_count": 13,
   "metadata": {},
   "outputs": [
    {
     "name": "stdout",
     "output_type": "stream",
     "text": [
      "end\n"
     ]
    }
   ],
   "source": [
    "import csv\n",
    "import urllib\n",
    "from bs4 import BeautifulSoup\n",
    "from urllib.request import urlopen\n",
    "from csv import DictReader\n",
    "import requests\n",
    "\n",
    "with open(\"nyTimes_Rugby_Data.csv\") as text:                               #change this line of code for all subtopics\n",
    "    articleLinks = [row[\"nyTimes_Rugby_Data\"] for row in DictReader(text)] #change this line of code for all subtopics\n",
    "    \n",
    "\n",
    "i = 1\n",
    "for url in articleLinks:\n",
    "    #print(url)\n",
    "    file = open(\"ny_Rugby_Data/nyTimes_Rugby_Data\"+str(i)+\".txt\",\"a\") #change this line of code for all subtopics\n",
    "    try:\n",
    "        html = requests.get(url)\n",
    "        soup = BeautifulSoup(html.text, 'html.parser')\n",
    "    except Exception:\n",
    "        print(error)\n",
    "    pWords = soup.find_all(\"p\")\n",
    "    for word in pWords:\n",
    "        if not \"Advertisement\" in word:\n",
    "            try:\n",
    "                file.write((word.get_text(strip=True)))\n",
    "                file.write(\"\\n\")\n",
    "            except Exception:\n",
    "                print(error)\n",
    "    i = i + 1\n",
    "print(\"end\")"
   ]
  },
  {
   "cell_type": "code",
   "execution_count": null,
   "metadata": {},
   "outputs": [],
   "source": []
  },
  {
   "cell_type": "code",
   "execution_count": null,
   "metadata": {},
   "outputs": [],
   "source": []
  }
 ],
 "metadata": {
  "kernelspec": {
   "display_name": "Python 3",
   "language": "python",
   "name": "python3"
  },
  "language_info": {
   "codemirror_mode": {
    "name": "ipython",
    "version": 3
   },
   "file_extension": ".py",
   "mimetype": "text/x-python",
   "name": "python",
   "nbconvert_exporter": "python",
   "pygments_lexer": "ipython3",
   "version": "3.6.5"
  }
 },
 "nbformat": 4,
 "nbformat_minor": 2
}
