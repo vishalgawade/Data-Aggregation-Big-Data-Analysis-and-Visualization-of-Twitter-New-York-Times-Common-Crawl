{
 "cells": [
  {
   "cell_type": "markdown",
   "metadata": {},
   "source": [
    "### merge emr outputs in sorted order and dump in txt file"
   ]
  },
  {
   "cell_type": "code",
   "execution_count": 9,
   "metadata": {},
   "outputs": [],
   "source": [
    "import sys\n",
    "from itertools import groupby\n",
    "from operator import itemgetter\n",
    "\n",
    "def read_mapper_output(file, separator='\\t'):\n",
    "    for line in file:\n",
    "        yield line.rstrip().split(separator, 1)\n",
    "\n",
    "\n",
    "def main(separator='\\t'):\n",
    "    output_file=open(\"All/word_count_twitter.txt\",\"a\");\n",
    "    file =open(\"All/emr_twitter\");\n",
    "    hashtable={}; # maintain dictionary <word,count> to store count of word\n",
    "    # input comes from STDIN (standard input)\n",
    "    data = read_mapper_output(file, separator=separator);\n",
    "\n",
    "    for current_word, group in groupby(data, itemgetter(0)):\n",
    "        try:\n",
    "            total_count = sum(int(count) for current_word, count in group)\n",
    "            if current_word not in hashtable:\n",
    "                hashtable[current_word] = total_count;\n",
    "            else:\n",
    "                hashtable[current_word] += total_count;\n",
    "        except ValueError:\n",
    "            # count was not a number, so silently discard this item\n",
    "            pass\n",
    "\n",
    "    sortedTuple = sorted(hashtable.items(), key=itemgetter(1),reverse=True); # sort hashtable by word occurence count\n",
    "    for tuples in sortedTuple:\n",
    "        line=tuples[0]+separator+str(tuples[1]);\n",
    "        output_file.write(line);\n",
    "        output_file.write(\"\\n\");\n",
    "#             print(\"%s%s%d\" % (tuples[0], separator, tuples[1]));\n",
    "    output_file.close();\n",
    "if __name__ == \"__main__\":\n",
    "    main()"
   ]
  },
  {
   "cell_type": "code",
   "execution_count": null,
   "metadata": {},
   "outputs": [],
   "source": []
  }
 ],
 "metadata": {
  "kernelspec": {
   "display_name": "Python 3",
   "language": "python",
   "name": "python3"
  },
  "language_info": {
   "codemirror_mode": {
    "name": "ipython",
    "version": 3
   },
   "file_extension": ".py",
   "mimetype": "text/x-python",
   "name": "python",
   "nbconvert_exporter": "python",
   "pygments_lexer": "ipython3",
   "version": "3.6.3"
  }
 },
 "nbformat": 4,
 "nbformat_minor": 2
}
